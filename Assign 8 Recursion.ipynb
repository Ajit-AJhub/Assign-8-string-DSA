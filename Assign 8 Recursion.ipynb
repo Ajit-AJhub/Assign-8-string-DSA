{
 "cells": [
  {
   "cell_type": "code",
   "execution_count": null,
   "id": "14279d09-e8eb-404c-847f-597ad756c64f",
   "metadata": {},
   "outputs": [],
   "source": [
    "<aside>\n",
    "💡 **Question 1**\n",
    "\n",
    "Given two strings s1 and s2, return *the lowest **ASCII** sum of deleted characters to make two strings equal*.\n",
    "\n",
    "**Example 1:**\n",
    "\n",
    "**Input:** s1 = \"sea\", s2 = \"eat\"\n",
    "\n",
    "**Output:** 231\n",
    "\n",
    "**Explanation:** Deleting \"s\" from \"sea\" adds the ASCII value of \"s\" (115) to the sum.\n",
    "\n",
    "Deleting \"t\" from \"eat\" adds 116 to the sum.\n",
    "\n",
    "At the end, both strings are equal, and 115 + 116 = 231 is the minimum sum possible to achieve this.\n",
    "\n",
    "Ans1-"
   ]
  },
  {
   "cell_type": "code",
   "execution_count": 1,
   "id": "ae7a0043-2e08-47e2-b772-ca96554fd588",
   "metadata": {},
   "outputs": [],
   "source": [
    "def minimumDeleteSum(s1, s2):\n",
    "    m, n = len(s1), len(s2)\n",
    "    dp = [[0] * (n + 1) for _ in range(m + 1)]\n",
    "\n",
    "    \n",
    "    for i in range(1, m + 1):\n",
    "        dp[i][0] = dp[i - 1][0] + ord(s1[i - 1])\n",
    "    for j in range(1, n + 1):\n",
    "        dp[0][j] = dp[0][j - 1] + ord(s2[j - 1])\n",
    "\n",
    "   \n",
    "    for i in range(1, m + 1):\n",
    "        for j in range(1, n + 1):\n",
    "            if s1[i - 1] == s2[j - 1]:\n",
    "                dp[i][j] = dp[i - 1][j - 1]\n",
    "            else:\n",
    "                dp[i][j] = min(dp[i - 1][j] + ord(s1[i - 1]), dp[i][j - 1] + ord(s2[j - 1]))\n",
    "\n",
    "    return dp[m][n]\n"
   ]
  },
  {
   "cell_type": "code",
   "execution_count": 2,
   "id": "ac89bb75-243d-42b9-b26b-e41a030ff5fe",
   "metadata": {},
   "outputs": [
    {
     "name": "stdout",
     "output_type": "stream",
     "text": [
      "231\n"
     ]
    }
   ],
   "source": [
    "s1 = \"sea\"\n",
    "s2 = \"eat\"\n",
    "result = minimumDeleteSum(s1, s2)\n",
    "print(result) \n"
   ]
  },
  {
   "cell_type": "code",
   "execution_count": null,
   "id": "b452c103-01da-4339-939d-4b94606c5b97",
   "metadata": {},
   "outputs": [],
   "source": [
    "<aside>\n",
    "💡 **Question 2**\n",
    "\n",
    "Given a string s containing only three types of characters: '(', ')' and '*', return true *if* s *is **valid***.\n",
    "\n",
    "The following rules define a **valid** string:\n",
    "\n",
    "- Any left parenthesis '(' must have a corresponding right parenthesis ')'.\n",
    "- Any right parenthesis ')' must have a corresponding left parenthesis '('.\n",
    "- Left parenthesis '(' must go before the corresponding right parenthesis ')'.\n",
    "- '*' could be treated as a single right parenthesis ')' or a single left parenthesis '(' or an empty string \"\".\n",
    "\n",
    "**Example 1:**\n",
    "\n",
    "**Input:** s = \"()\"\n",
    "\n",
    "**Output:**\n",
    "\n",
    "true\n",
    "\n",
    "Ans2-"
   ]
  },
  {
   "cell_type": "code",
   "execution_count": 4,
   "id": "6f92298c-e49f-4e94-bafc-3ed4b1d62c7f",
   "metadata": {},
   "outputs": [],
   "source": [
    "def is_valid(s):\n",
    "    stack = []\n",
    "    for c in s:\n",
    "        if c in ['(', '*']:\n",
    "            stack.append(c)\n",
    "        elif c == ')':\n",
    "            if stack:\n",
    "                if stack[-1] == '(':\n",
    "                    stack.pop()\n",
    "                elif stack[-1] == '*':\n",
    "                    stack.pop()\n",
    "                else:\n",
    "                    return False\n",
    "            else:\n",
    "                return False\n",
    "\n",
    "    while stack and stack[-1] == '*':\n",
    "        stack.pop()\n",
    "        if stack and stack[-1] == '(':\n",
    "            stack.pop()\n",
    "    \n",
    "    return len(stack) == 0\n"
   ]
  },
  {
   "cell_type": "code",
   "execution_count": 5,
   "id": "8baec646-efe3-462c-bc0e-eaa779c586d1",
   "metadata": {},
   "outputs": [
    {
     "name": "stdout",
     "output_type": "stream",
     "text": [
      "True\n"
     ]
    }
   ],
   "source": [
    "s = \"()\"\n",
    "print(is_valid(s)) \n"
   ]
  },
  {
   "cell_type": "code",
   "execution_count": null,
   "id": "0622d9b8-baec-4bf6-890a-599631a6e26f",
   "metadata": {},
   "outputs": [],
   "source": [
    "<aside>\n",
    "💡 **Question 3**\n",
    "\n",
    "Given two strings word1 and word2, return *the minimum number of **steps** required to make* word1 *and* word2 *the same*.\n",
    "\n",
    "In one **step**, you can delete exactly one character in either string.\n",
    "\n",
    "**Example 1:**\n",
    "\n",
    "**Input:** word1 = \"sea\", word2 = \"eat\"\n",
    "\n",
    "**Output:** 2\n",
    "\n",
    "**Explanation:** You need one step to make \"sea\" to \"ea\" and another step to make \"eat\" to \"ea\".\n",
    "\n",
    "Ans3-"
   ]
  },
  {
   "cell_type": "code",
   "execution_count": 6,
   "id": "d9ff850c-1504-4269-b9d3-22bfa966644a",
   "metadata": {},
   "outputs": [],
   "source": [
    "def minSteps(word1, word2):\n",
    "    m, n = len(word1), len(word2)\n",
    "    \n",
    "    # Create a 2D table to store the lengths of LCS\n",
    "    dp = [[0] * (n + 1) for _ in range(m + 1)]\n",
    "    \n",
    "    # Calculate the lengths of LCS\n",
    "    for i in range(1, m + 1):\n",
    "        for j in range(1, n + 1):\n",
    "            if word1[i - 1] == word2[j - 1]:\n",
    "                dp[i][j] = dp[i - 1][j - 1] + 1\n",
    "            else:\n",
    "                dp[i][j] = max(dp[i - 1][j], dp[i][j - 1])\n",
    "    \n",
    "    # The length of LCS\n",
    "    lcs_length = dp[m][n]\n",
    "    \n",
    "    # The minimum number of steps required\n",
    "    steps = (m - lcs_length) + (n - lcs_length)\n",
    "    \n",
    "    return steps\n"
   ]
  },
  {
   "cell_type": "code",
   "execution_count": 7,
   "id": "1dd39ec3-74ee-4341-9cd0-db83083b33f4",
   "metadata": {},
   "outputs": [
    {
     "name": "stdout",
     "output_type": "stream",
     "text": [
      "2\n"
     ]
    }
   ],
   "source": [
    "word1 = \"sea\"\n",
    "word2 = \"eat\"\n",
    "print(minSteps(word1, word2))\n"
   ]
  },
  {
   "cell_type": "code",
   "execution_count": null,
   "id": "fb817b26-b8aa-4669-bb43-244b8247dbc9",
   "metadata": {},
   "outputs": [],
   "source": [
    "<aside>\n",
    "💡 **Question 4**\n",
    "\n",
    "You need to construct a binary tree from a string consisting of parenthesis and integers.\n",
    "\n",
    "The whole input represents a binary tree. It contains an integer followed by zero, one or two pairs of parenthesis.\n",
    "The integer represents the root's value and a pair of parenthesis contains a child binary tree with the same structure.\n",
    "You always start to construct the **left** child node of the parent first if it exists.\n",
    "\n",
    "**Input:** s = \"4(2(3)(1))(6(5))\"\n",
    "\n",
    "**Output:** [4,2,6,3,1,5]\n",
    "Ans4-"
   ]
  },
  {
   "cell_type": "code",
   "execution_count": 11,
   "id": "07480d19-f870-47bb-ab60-c44c2226f5c0",
   "metadata": {},
   "outputs": [
    {
     "name": "stdout",
     "output_type": "stream",
     "text": [
      "[4, 2, 6, 3, 1, 5]\n"
     ]
    }
   ],
   "source": [
    "class TreeNode:\n",
    "    def __init__(self, val=0, left=None, right=None):\n",
    "        self.val = val\n",
    "        self.left = left\n",
    "        self.right = right\n",
    "\n",
    "def constructBinaryTree(s):\n",
    "    stack = []\n",
    "    i = 0\n",
    "\n",
    "    while i < len(s):\n",
    "        if s[i].isdigit() or s[i] == '-':\n",
    "            j = i + 1\n",
    "            while j < len(s) and (s[j].isdigit() or s[j] == '-'):\n",
    "                j += 1\n",
    "\n",
    "            node = TreeNode(int(s[i:j]))\n",
    "\n",
    "            if stack:\n",
    "                top = stack[-1]\n",
    "                if top.left is None:\n",
    "                    top.left = node\n",
    "                else:\n",
    "                    top.right = node\n",
    "\n",
    "            stack.append(node)\n",
    "            i = j\n",
    "        elif s[i] == ')':\n",
    "            stack.pop()\n",
    "            i += 1\n",
    "        else:\n",
    "            i += 1\n",
    "\n",
    "    return stack[0] if stack else None\n",
    "\n",
    "def inorderTraversal(root):\n",
    "    result = []\n",
    "\n",
    "    def traverse(node):\n",
    "        if node is None:\n",
    "            return\n",
    "\n",
    "        result.append(node.val)\n",
    "        traverse(node.left)\n",
    "        traverse(node.right)\n",
    "\n",
    "    traverse(root)\n",
    "    return result\n",
    "\n",
    "\n",
    "s = \"4(2(6)(3))(1(5))\"\n",
    "tree = constructBinaryTree(s)\n",
    "result = inorderTraversal(tree)\n",
    "print(result)\n"
   ]
  },
  {
   "cell_type": "code",
   "execution_count": null,
   "id": "8735b549-9211-407e-a00f-bc27bbda3af6",
   "metadata": {},
   "outputs": [],
   "source": [
    "<aside>\n",
    "💡 **Question 5**\n",
    "\n",
    "Given an array of characters chars, compress it using the following algorithm:\n",
    "\n",
    "Begin with an empty string s. For each group of **consecutive repeating characters** in chars:\n",
    "\n",
    "- If the group's length is 1, append the character to s.\n",
    "- Otherwise, append the character followed by the group's length.\n",
    "\n",
    "The compressed string s **should not be returned separately**, but instead, be stored **in the input character array chars**. \n",
    "Note that group lengths that are 10 or longer will be split into multiple characters in chars.\n",
    "\n",
    "After you are done **modifying the input array,** return *the new length of the array*.\n",
    "\n",
    "You must write an algorithm that uses only constant extra space.\n",
    "\n",
    "**Example 1:**\n",
    "\n",
    "**Input:** chars = [\"a\",\"a\",\"b\",\"b\",\"c\",\"c\",\"c\"]\n",
    "\n",
    "**Output:** Return 6, and the first 6 characters of the input array should be: [\"a\",\"2\",\"b\",\"2\",\"c\",\"3\"]\n",
    "\n",
    "**Explanation:**\n",
    "\n",
    "The groups are \"aa\", \"bb\", and \"ccc\". This compresses to \"a2b2c3\".\n",
    "\n",
    "</aside>\n",
    "Ans5-"
   ]
  },
  {
   "cell_type": "code",
   "execution_count": 12,
   "id": "4024e936-3114-4bc7-bca8-64566a14ebb5",
   "metadata": {},
   "outputs": [],
   "source": [
    "def compress(chars):\n",
    "    readPtr = writePtr = 0\n",
    "    count = 1\n",
    "\n",
    "    for i in range(1, len(chars) + 1):\n",
    "        if i < len(chars) and chars[i] == chars[i-1]:\n",
    "            count += 1\n",
    "        else:\n",
    "            chars[writePtr] = chars[readPtr]\n",
    "            writePtr += 1\n",
    "\n",
    "            if count > 1:\n",
    "                for digit in str(count):\n",
    "                    chars[writePtr] = digit\n",
    "                    writePtr += 1\n",
    "\n",
    "            count = 1\n",
    "            readPtr = i\n",
    "\n",
    "    return writePtr\n"
   ]
  },
  {
   "cell_type": "code",
   "execution_count": 13,
   "id": "4d20dc52-56ba-4592-b7a4-fa0f8313e17d",
   "metadata": {},
   "outputs": [
    {
     "name": "stdout",
     "output_type": "stream",
     "text": [
      "Compressed Length: 6\n",
      "Compressed Array: ['a', '2', 'b', '2', 'c', '3']\n"
     ]
    }
   ],
   "source": [
    "chars = [\"a\",\"a\",\"b\",\"b\",\"c\",\"c\",\"c\"]\n",
    "compressed_length = compress(chars)\n",
    "compressed_array = chars[:compressed_length]\n",
    "\n",
    "print(\"Compressed Length:\", compressed_length)\n",
    "print(\"Compressed Array:\", compressed_array)\n"
   ]
  },
  {
   "cell_type": "code",
   "execution_count": null,
   "id": "ea4d21cb-27bd-4c2e-87fd-07eee8befc84",
   "metadata": {},
   "outputs": [],
   "source": [
    "<aside>\n",
    "💡 **Question 6**\n",
    "\n",
    "Given two strings s and p, return *an array of all the start indices of* p*'s anagrams in* s. You may return the answer in **any order**.\n",
    "\n",
    "An **Anagram** is a word or phrase formed by rearranging the letters of a different word or phrase, typically using \n",
    "all the original letters exactly once.\n",
    "\n",
    "**Example 1:**\n",
    "\n",
    "**Input:** s = \"cbaebabacd\", p = \"abc\"\n",
    "\n",
    "**Output:** [0,6]\n",
    "\n",
    "**Explanation:**\n",
    "\n",
    "The substring with start index = 0 is \"cba\", which is an anagram of \"abc\".\n",
    "\n",
    "The substring with start index = 6 is \"bac\", which is an anagram of \"abc\".\n",
    "\n",
    "</aside>\n",
    "Ans6-"
   ]
  },
  {
   "cell_type": "code",
   "execution_count": 14,
   "id": "65b8d263-3c15-4101-a6f1-42a7320d120c",
   "metadata": {},
   "outputs": [],
   "source": [
    "from collections import Counter\n",
    "\n",
    "def findAnagrams(s, p):\n",
    "    result = []\n",
    "    p_freq = Counter(p)\n",
    "    window_freq = Counter(s[:len(p)])\n",
    "\n",
    "    if window_freq == p_freq:\n",
    "        result.append(0)\n",
    "\n",
    "    for i in range(len(p), len(s)):\n",
    "        window_freq[s[i - len(p)]] -= 1\n",
    "        if window_freq[s[i - len(p)]] == 0:\n",
    "            del window_freq[s[i - len(p)]]\n",
    "\n",
    "        window_freq[s[i]] += 1\n",
    "\n",
    "        if window_freq == p_freq:\n",
    "            result.append(i - len(p) + 1)\n",
    "\n",
    "    return result\n"
   ]
  },
  {
   "cell_type": "code",
   "execution_count": 15,
   "id": "abdf88d5-9a9c-47ac-a8c3-424395e71d93",
   "metadata": {},
   "outputs": [
    {
     "name": "stdout",
     "output_type": "stream",
     "text": [
      "[0, 6]\n"
     ]
    }
   ],
   "source": [
    "s = \"cbaebabacd\"\n",
    "p = \"abc\"\n",
    "print(findAnagrams(s, p))\n"
   ]
  },
  {
   "cell_type": "code",
   "execution_count": null,
   "id": "842fdabf-ffb2-4f04-ba8f-209b8ad77781",
   "metadata": {},
   "outputs": [],
   "source": [
    "<aside>\n",
    "💡 **Question 7**\n",
    "\n",
    "Given an encoded string, return its decoded string.\n",
    "\n",
    "The encoding rule is: k[encoded_string], where the encoded_string inside the square brackets is being repeated exactly k times.\n",
    "Note that k is guaranteed to be a positive integer.\n",
    "\n",
    "You may assume that the input string is always valid; there are no extra white spaces, square brackets are well-formed, etc. Furthermore, \n",
    "you may assume that the original data does not contain any digits and that digits are only for those repeat numbers, k. For example, \n",
    "there will not be input like 3a or 2[4].\n",
    "\n",
    "The test cases are generated so that the length of the output will never exceed 105.\n",
    "\n",
    "**Example 1:**\n",
    "\n",
    "**Input:** s = \"3[a]2[bc]\"\n",
    "\n",
    "**Output:** \"aaabcbc\"\n",
    "\n",
    "</aside>\n",
    "Ans7-"
   ]
  },
  {
   "cell_type": "code",
   "execution_count": 16,
   "id": "820c84f8-c43e-4afa-b4bc-eccc0a86f39f",
   "metadata": {},
   "outputs": [],
   "source": [
    "def decodeString(s):\n",
    "    stack = []\n",
    "    current_count = 0\n",
    "    current_string = ''\n",
    "\n",
    "    for char in s:\n",
    "        if char.isdigit():\n",
    "            current_count = current_count * 10 + int(char)\n",
    "        elif char == '[':\n",
    "            stack.append((current_count, current_string))\n",
    "            current_count = 0\n",
    "            current_string = ''\n",
    "        elif char == ']':\n",
    "            count, prev_string = stack.pop()\n",
    "            current_string = prev_string + current_string * count\n",
    "        else:\n",
    "            current_string += char\n",
    "\n",
    "    return current_string\n"
   ]
  },
  {
   "cell_type": "code",
   "execution_count": 17,
   "id": "ecf82083-46ac-4d94-a171-b83e24f63bfa",
   "metadata": {},
   "outputs": [
    {
     "name": "stdout",
     "output_type": "stream",
     "text": [
      "aaabcbc\n"
     ]
    }
   ],
   "source": [
    "s = \"3[a]2[bc]\"\n",
    "print(decodeString(s))\n"
   ]
  },
  {
   "cell_type": "code",
   "execution_count": null,
   "id": "e56e1b0c-a06b-46a0-b94b-1eb358acdd3d",
   "metadata": {},
   "outputs": [],
   "source": [
    "<aside>\n",
    "💡 **Question 8**\n",
    "\n",
    "Given two strings s and goal, return true *if you can swap two letters in* s *so the result is equal to* goal*, otherwise, return* false*.*\n",
    "\n",
    "Swapping letters is defined as taking two indices i and j (0-indexed) such that i != j and swapping the characters at s[i] and s[j].\n",
    "\n",
    "- For example, swapping at indices 0 and 2 in \"abcd\" results in \"cbad\".\n",
    "\n",
    "**Example 1:**\n",
    "\n",
    "**Input:** s = \"ab\", goal = \"ba\"\n",
    "\n",
    "**Output:** true\n",
    "\n",
    "**Explanation:** You can swap s[0] = 'a' and s[1] = 'b' to get \"ba\", which is equal to goal.\n",
    "\n",
    "Ans8-"
   ]
  },
  {
   "cell_type": "code",
   "execution_count": 18,
   "id": "013e482d-583d-4aa0-aaf3-7f33c46f1823",
   "metadata": {},
   "outputs": [],
   "source": [
    "def can_swapped(s, goal):\n",
    "    diff_indices = []\n",
    "    diff_chars = []\n",
    "    \n",
    "    for i in range(len(s)):\n",
    "        if s[i] != goal[i]:\n",
    "            diff_indices.append(i)\n",
    "            diff_chars.append(s[i])\n",
    "            \n",
    "            if len(diff_indices) > 2:\n",
    "                return False\n",
    "    \n",
    "    if len(diff_indices) == 0:\n",
    "        return True\n",
    "    elif len(diff_indices) == 2:\n",
    "        return diff_chars[0] == goal[diff_indices[1]] and diff_chars[1] == goal[diff_indices[0]]\n",
    "    else:\n",
    "        return False\n"
   ]
  },
  {
   "cell_type": "code",
   "execution_count": 19,
   "id": "ae6fbb69-3849-43ad-a064-46aa30026ec0",
   "metadata": {},
   "outputs": [
    {
     "name": "stdout",
     "output_type": "stream",
     "text": [
      "True\n"
     ]
    }
   ],
   "source": [
    "s = \"ab\"\n",
    "goal = \"ba\"\n",
    "print(can_swapped(s, goal)) \n"
   ]
  },
  {
   "cell_type": "code",
   "execution_count": null,
   "id": "571b85fd-39c8-4c16-8ab8-778b293af126",
   "metadata": {},
   "outputs": [],
   "source": []
  }
 ],
 "metadata": {
  "kernelspec": {
   "display_name": "Python 3 (ipykernel)",
   "language": "python",
   "name": "python3"
  },
  "language_info": {
   "codemirror_mode": {
    "name": "ipython",
    "version": 3
   },
   "file_extension": ".py",
   "mimetype": "text/x-python",
   "name": "python",
   "nbconvert_exporter": "python",
   "pygments_lexer": "ipython3",
   "version": "3.10.8"
  }
 },
 "nbformat": 4,
 "nbformat_minor": 5
}
